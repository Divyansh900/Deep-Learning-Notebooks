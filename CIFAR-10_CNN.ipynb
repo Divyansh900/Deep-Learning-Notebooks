{
  "nbformat": 4,
  "nbformat_minor": 0,
  "metadata": {
    "colab": {
      "provenance": []
    },
    "kernelspec": {
      "name": "python3",
      "display_name": "Python 3"
    },
    "language_info": {
      "name": "python"
    }
  },
  "cells": [
    {
      "cell_type": "code",
      "execution_count": 1,
      "metadata": {
        "id": "ySuS6HkXBnAr"
      },
      "outputs": [],
      "source": [
        "import tensorflow as tf\n",
        "from tensorflow.keras import datasets, layers, models\n",
        "import matplotlib.pyplot as plt\n",
        "import numpy as np\n",
        "from sklearn.metrics import classification_report"
      ]
    },
    {
      "cell_type": "code",
      "source": [
        "(X_train, y_train), (X_test, y_test) = datasets.cifar10.load_data()"
      ],
      "metadata": {
        "id": "petTA8IqB5CW"
      },
      "execution_count": 20,
      "outputs": []
    },
    {
      "cell_type": "code",
      "source": [
        "X_train.shape"
      ],
      "metadata": {
        "colab": {
          "base_uri": "https://localhost:8080/"
        },
        "id": "fEN2PCThCKLn",
        "outputId": "9f8ebae7-3d38-4408-e71e-88e08277b58f"
      },
      "execution_count": 21,
      "outputs": [
        {
          "output_type": "execute_result",
          "data": {
            "text/plain": [
              "(50000, 32, 32, 3)"
            ]
          },
          "metadata": {},
          "execution_count": 21
        }
      ]
    },
    {
      "cell_type": "code",
      "source": [
        "X_test.shape"
      ],
      "metadata": {
        "colab": {
          "base_uri": "https://localhost:8080/"
        },
        "id": "KhV74mD3CNM_",
        "outputId": "417fea13-ff82-4aa7-ddac-d88dfb183466"
      },
      "execution_count": 22,
      "outputs": [
        {
          "output_type": "execute_result",
          "data": {
            "text/plain": [
              "(10000, 32, 32, 3)"
            ]
          },
          "metadata": {},
          "execution_count": 22
        }
      ]
    },
    {
      "cell_type": "code",
      "source": [
        "y_train[:5]"
      ],
      "metadata": {
        "colab": {
          "base_uri": "https://localhost:8080/"
        },
        "id": "ubGyRoVPEpuX",
        "outputId": "da027165-14a2-4464-ea0f-7ac77ee35734"
      },
      "execution_count": 23,
      "outputs": [
        {
          "output_type": "execute_result",
          "data": {
            "text/plain": [
              "array([[6],\n",
              "       [9],\n",
              "       [9],\n",
              "       [4],\n",
              "       [1]], dtype=uint8)"
            ]
          },
          "metadata": {},
          "execution_count": 23
        }
      ]
    },
    {
      "cell_type": "code",
      "source": [
        "y_train = y_train.reshape(-1,)"
      ],
      "metadata": {
        "id": "HvjBbpK9ElLq"
      },
      "execution_count": 24,
      "outputs": []
    },
    {
      "cell_type": "code",
      "source": [
        "y_train[:5]"
      ],
      "metadata": {
        "colab": {
          "base_uri": "https://localhost:8080/"
        },
        "id": "DguOfnYdEtbQ",
        "outputId": "0e0dd3e6-857b-41b6-e65f-6cc7b0f41d66"
      },
      "execution_count": 25,
      "outputs": [
        {
          "output_type": "execute_result",
          "data": {
            "text/plain": [
              "array([6, 9, 9, 4, 1], dtype=uint8)"
            ]
          },
          "metadata": {},
          "execution_count": 25
        }
      ]
    },
    {
      "cell_type": "code",
      "source": [
        "plt.figure(figsize = (2,2))\n",
        "plt.imshow(X_train[0])"
      ],
      "metadata": {
        "colab": {
          "base_uri": "https://localhost:8080/",
          "height": 235
        },
        "id": "v5dMRvhdCO8u",
        "outputId": "82d6c1ec-9c62-4ded-9986-aa269c32de58"
      },
      "execution_count": 26,
      "outputs": [
        {
          "output_type": "execute_result",
          "data": {
            "text/plain": [
              "<matplotlib.image.AxesImage at 0x7d222004f760>"
            ]
          },
          "metadata": {},
          "execution_count": 26
        },
        {
          "output_type": "display_data",
          "data": {
            "text/plain": [
              "<Figure size 200x200 with 1 Axes>"
            ],
            "image/png": "[encoded data removed]"
          },
          "metadata": {}
        }
      ]
    },
    {
      "cell_type": "code",
      "source": [
        "classes = [\"airplane\" ,\"automobile\",\"bird\" ,\"cat\" ,\"deer\" ,'dog' ,'frog' ,'horse' ,'ship' ,'truck']"
      ],
      "metadata": {
        "id": "ZvqZvkH3C2mB"
      },
      "execution_count": 27,
      "outputs": []
    },
    {
      "cell_type": "code",
      "source": [
        "def showImg(X, y, index):\n",
        "  plt.figure(figsize = (15,2))\n",
        "  plt.imshow(X_train[index])\n",
        "  plt.xlabel(classes[y[index]])"
      ],
      "metadata": {
        "id": "IrY8w57uClCl"
      },
      "execution_count": 28,
      "outputs": []
    },
    {
      "cell_type": "code",
      "source": [
        "showImg(X_train, y_train, 5)"
      ],
      "metadata": {
        "colab": {
          "base_uri": "https://localhost:8080/",
          "height": 237
        },
        "id": "rcTysxj_Ca-m",
        "outputId": "43ebb1d8-84d3-4a39-b8e4-780ad144b861"
      },
      "execution_count": 29,
      "outputs": [
        {
          "output_type": "display_data",
          "data": {
            "text/plain": [
              "<Figure size 1500x200 with 1 Axes>"
            ],
            "image/png": "[encoded data removed]"
          },
          "metadata": {}
        }
      ]
    },
    {
      "cell_type": "markdown",
      "source": [
        "Normalizing pixels of images"
      ],
      "metadata": {
        "id": "zL29k3kxFKDV"
      }
    },
    {
      "cell_type": "code",
      "source": [
        "X_train = X_train/255\n",
        "X_test = X_test/255"
      ],
      "metadata": {
        "id": "_uC4uonBE8C6"
      },
      "execution_count": 30,
      "outputs": []
    },
    {
      "cell_type": "markdown",
      "source": [
        "### Using simple ANN for the task"
      ],
      "metadata": {
        "id": "LzxqeONbFue3"
      }
    },
    {
      "cell_type": "code",
      "source": [
        "y_train[0]"
      ],
      "metadata": {
        "colab": {
          "base_uri": "https://localhost:8080/"
        },
        "id": "ALgWD6aKkfA1",
        "outputId": "e3bc2c01-bc88-4f10-8cf4-35fc0479afa0"
      },
      "execution_count": 13,
      "outputs": [
        {
          "output_type": "execute_result",
          "data": {
            "text/plain": [
              "6"
            ]
          },
          "metadata": {},
          "execution_count": 13
        }
      ]
    },
    {
      "cell_type": "code",
      "source": [
        "ann = models.Sequential([\n",
        "    layers.Flatten(input_shape = (32,32,3)),\n",
        "    layers.Dense(3000, activation = \"relu\"),\n",
        "    layers.Dense(1000, activation = \"relu\"),\n",
        "    layers.Dense(10, activation = \"sigmoid\"),\n",
        "])\n",
        "\n",
        "ann.compile(optimizer = \"SGD\", loss = \"sparse_categorical_crossentropy\", metrics = [\"accuracy\"])\n",
        "ann.fit(X_train, y_train, epochs = 10)"
      ],
      "metadata": {
        "colab": {
          "base_uri": "https://localhost:8080/"
        },
        "id": "w-1YLB9_FUmW",
        "outputId": "b4245c4a-3430-484c-99ab-949dec0fe93c"
      },
      "execution_count": 14,
      "outputs": [
        {
          "output_type": "stream",
          "name": "stdout",
          "text": [
            "Epoch 1/10\n",
            "1563/1563 [==============================] - 189s 120ms/step - loss: 1.8142 - accuracy: 0.3526\n",
            "Epoch 2/10\n",
            "1563/1563 [==============================] - 175s 112ms/step - loss: 1.6248 - accuracy: 0.4267\n",
            "Epoch 3/10\n",
            "1563/1563 [==============================] - 181s 116ms/step - loss: 1.5423 - accuracy: 0.4556\n",
            "Epoch 4/10\n",
            "1563/1563 [==============================] - 187s 120ms/step - loss: 1.4839 - accuracy: 0.4764\n",
            "Epoch 5/10\n",
            "1563/1563 [==============================] - 179s 115ms/step - loss: 1.4340 - accuracy: 0.4956\n",
            "Epoch 6/10\n",
            "1563/1563 [==============================] - 178s 114ms/step - loss: 1.3910 - accuracy: 0.5141\n",
            "Epoch 7/10\n",
            "1563/1563 [==============================] - 190s 122ms/step - loss: 1.3541 - accuracy: 0.5225\n",
            "Epoch 8/10\n",
            "1563/1563 [==============================] - 181s 116ms/step - loss: 1.3194 - accuracy: 0.5369\n",
            "Epoch 9/10\n",
            "1563/1563 [==============================] - 183s 117ms/step - loss: 1.2846 - accuracy: 0.5497\n",
            "Epoch 10/10\n",
            "1563/1563 [==============================] - 181s 116ms/step - loss: 1.2531 - accuracy: 0.5617\n"
          ]
        },
        {
          "output_type": "execute_result",
          "data": {
            "text/plain": [
              "<keras.src.callbacks.History at 0x7d221c8a9690>"
            ]
          },
          "metadata": {},
          "execution_count": 14
        }
      ]
    },
    {
      "cell_type": "code",
      "source": [
        "ann.evaluate(X_test, y_test)"
      ],
      "metadata": {
        "id": "HGiIA9sHG2d1",
        "colab": {
          "base_uri": "https://localhost:8080/"
        },
        "outputId": "39d2f8aa-be63-4f2d-bef8-898ba2c8b9e9"
      },
      "execution_count": 31,
      "outputs": [
        {
          "output_type": "stream",
          "name": "stdout",
          "text": [
            "313/313 [==============================] - 15s 48ms/step - loss: 1.5005 - accuracy: 0.4620\n"
          ]
        },
        {
          "output_type": "execute_result",
          "data": {
            "text/plain": [
              "[1.5005462169647217, 0.4620000123977661]"
            ]
          },
          "metadata": {},
          "execution_count": 31
        }
      ]
    },
    {
      "cell_type": "code",
      "source": [
        "pred = ann.predict(X_test)\n",
        "\n",
        "# argmax is used to get the maximum probability out of all of them\n",
        "Pred = [np.argmax(element) for element in pred]\n",
        "print(classification_report(y_test, Pred))"
      ],
      "metadata": {
        "id": "DyA9PokNHNr0",
        "colab": {
          "base_uri": "https://localhost:8080/"
        },
        "outputId": "a90efe46-fe0a-456a-f2a1-a77a55b0c066"
      },
      "execution_count": 32,
      "outputs": [
        {
          "output_type": "stream",
          "name": "stdout",
          "text": [
            "313/313 [==============================] - 12s 37ms/step\n",
            "              precision    recall  f1-score   support\n",
            "\n",
            "           0       0.42      0.52      0.47      1000\n",
            "           1       0.60      0.63      0.62      1000\n",
            "           2       0.51      0.17      0.26      1000\n",
            "           3       0.41      0.21      0.28      1000\n",
            "           4       0.34      0.64      0.45      1000\n",
            "           5       0.54      0.24      0.33      1000\n",
            "           6       0.55      0.52      0.53      1000\n",
            "           7       0.68      0.42      0.52      1000\n",
            "           8       0.37      0.86      0.51      1000\n",
            "           9       0.64      0.39      0.49      1000\n",
            "\n",
            "    accuracy                           0.46     10000\n",
            "   macro avg       0.51      0.46      0.45     10000\n",
            "weighted avg       0.51      0.46      0.45     10000\n",
            "\n"
          ]
        }
      ]
    },
    {
      "cell_type": "markdown",
      "source": [
        "### Using CNN"
      ],
      "metadata": {
        "id": "D9MdNmTuHunz"
      }
    },
    {
      "cell_type": "code",
      "source": [
        "cnn = models.Sequential([\n",
        "    layers.Conv2D(filters = 32, kernel_size = (3,3),\n",
        "                  activation = \"relu\" ,input_shape = (32,32,3)),\n",
        "    layers.MaxPool2D((2,2)),\n",
        "    layers.Conv2D(filters = 32, kernel_size = (3,3),\n",
        "                  activation = \"relu\"),\n",
        "    layers.MaxPool2D((2,2)),\n",
        "\n",
        "    layers.Flatten(),\n",
        "    layers.Dense(120, activation = \"relu\"),\n",
        "    layers.Dense(50, activation = \"relu\"),\n",
        "\n",
        "    # Normalizes probabilty so they add up to 1\n",
        "    layers.Dense(10, activation = \"softmax\")])"
      ],
      "metadata": {
        "id": "rQHqQORbH9UX"
      },
      "execution_count": 33,
      "outputs": []
    },
    {
      "cell_type": "code",
      "source": [
        "cnn.compile(optimizer = \"adam\", loss = \"sparse_categorical_crossentropy\", metrics = [\"accuracy\"])\n",
        "cnn.fit(X_train, y_train, epochs = 10)"
      ],
      "metadata": {
        "id": "qq6c6hwZJwze",
        "colab": {
          "base_uri": "https://localhost:8080/"
        },
        "outputId": "8cf12414-b199-418d-a836-24f2561e5989"
      },
      "execution_count": 34,
      "outputs": [
        {
          "output_type": "stream",
          "name": "stdout",
          "text": [
            "Epoch 1/10\n",
            "1563/1563 [==============================] - 62s 39ms/step - loss: 1.4677 - accuracy: 0.4683\n",
            "Epoch 2/10\n",
            "1563/1563 [==============================] - 58s 37ms/step - loss: 1.1303 - accuracy: 0.6003\n",
            "Epoch 3/10\n",
            "1563/1563 [==============================] - 59s 38ms/step - loss: 0.9839 - accuracy: 0.6521\n",
            "Epoch 4/10\n",
            "1563/1563 [==============================] - 58s 37ms/step - loss: 0.8885 - accuracy: 0.6890\n",
            "Epoch 5/10\n",
            "1563/1563 [==============================] - 61s 39ms/step - loss: 0.8157 - accuracy: 0.7133\n",
            "Epoch 6/10\n",
            "1563/1563 [==============================] - 59s 38ms/step - loss: 0.7529 - accuracy: 0.7343\n",
            "Epoch 7/10\n",
            "1563/1563 [==============================] - 58s 37ms/step - loss: 0.6994 - accuracy: 0.7537\n",
            "Epoch 8/10\n",
            "1563/1563 [==============================] - 57s 37ms/step - loss: 0.6455 - accuracy: 0.7732\n",
            "Epoch 9/10\n",
            "1563/1563 [==============================] - 55s 35ms/step - loss: 0.6004 - accuracy: 0.7878\n",
            "Epoch 10/10\n",
            "1563/1563 [==============================] - 53s 34ms/step - loss: 0.5549 - accuracy: 0.8029\n"
          ]
        },
        {
          "output_type": "execute_result",
          "data": {
            "text/plain": [
              "<keras.src.callbacks.History at 0x7d2214649960>"
            ]
          },
          "metadata": {},
          "execution_count": 34
        }
      ]
    },
    {
      "cell_type": "code",
      "source": [
        "cnn.evaluate(X_test, y_test)"
      ],
      "metadata": {
        "id": "VOUjGUy7J9Rm",
        "colab": {
          "base_uri": "https://localhost:8080/"
        },
        "outputId": "0d0cdf77-5b68-432b-91fb-00ba86d7c25e"
      },
      "execution_count": 35,
      "outputs": [
        {
          "output_type": "stream",
          "name": "stdout",
          "text": [
            "313/313 [==============================] - 4s 11ms/step - loss: 0.9764 - accuracy: 0.6885\n"
          ]
        },
        {
          "output_type": "execute_result",
          "data": {
            "text/plain": [
              "[0.9764010906219482, 0.6884999871253967]"
            ]
          },
          "metadata": {},
          "execution_count": 35
        }
      ]
    },
    {
      "cell_type": "code",
      "source": [
        "pred = cnn.predict(X_test)\n",
        "Pred = [np.argmax(element) for element in pred]\n",
        "print(classification_report(y_test, Pred))"
      ],
      "metadata": {
        "id": "NHcitKc5KIJg",
        "colab": {
          "base_uri": "https://localhost:8080/"
        },
        "outputId": "9581936e-5ab1-43d6-9c5d-c627657bae98"
      },
      "execution_count": 36,
      "outputs": [
        {
          "output_type": "stream",
          "name": "stdout",
          "text": [
            "313/313 [==============================] - 6s 18ms/step\n",
            "              precision    recall  f1-score   support\n",
            "\n",
            "           0       0.68      0.76      0.72      1000\n",
            "           1       0.80      0.80      0.80      1000\n",
            "           2       0.65      0.51      0.57      1000\n",
            "           3       0.52      0.45      0.48      1000\n",
            "           4       0.66      0.63      0.64      1000\n",
            "           5       0.61      0.56      0.58      1000\n",
            "           6       0.75      0.78      0.76      1000\n",
            "           7       0.71      0.78      0.74      1000\n",
            "           8       0.76      0.83      0.79      1000\n",
            "           9       0.69      0.81      0.74      1000\n",
            "\n",
            "    accuracy                           0.69     10000\n",
            "   macro avg       0.68      0.69      0.68     10000\n",
            "weighted avg       0.68      0.69      0.68     10000\n",
            "\n"
          ]
        }
      ]
    },
    {
      "cell_type": "code",
      "source": [
        "y_test = y_test.reshape(-1)"
      ],
      "metadata": {
        "id": "KrjD38MzKXbX"
      },
      "execution_count": 37,
      "outputs": []
    },
    {
      "cell_type": "code",
      "source": [
        "y_classes = [np.argmax(index) for index in pred]\n",
        "y_classes[:5]"
      ],
      "metadata": {
        "id": "hqGQHmrFKzBx",
        "colab": {
          "base_uri": "https://localhost:8080/"
        },
        "outputId": "10c1ed8c-40dd-44d4-b371-6485e41df6c3"
      },
      "execution_count": 47,
      "outputs": [
        {
          "output_type": "execute_result",
          "data": {
            "text/plain": [
              "[8, 8, 8, 0, 4]"
            ]
          },
          "metadata": {},
          "execution_count": 47
        }
      ]
    },
    {
      "cell_type": "code",
      "source": [
        "def check(index):\n",
        "  plt.figure(figsize = (15,2))\n",
        "  plt.imshow(X_test[index])\n",
        "  plt.xlabel(classes[y_test[index]])\n",
        "  print(classes[y_classes[index]])"
      ],
      "metadata": {
        "id": "6YOqF6aGLTlt"
      },
      "execution_count": 57,
      "outputs": []
    },
    {
      "cell_type": "code",
      "source": [
        "check(5)"
      ],
      "metadata": {
        "id": "2LhX-5nHLk-x",
        "colab": {
          "base_uri": "https://localhost:8080/",
          "height": 255
        },
        "outputId": "eba3133b-6776-49fb-bb55-12cae244008e"
      },
      "execution_count": 58,
      "outputs": [
        {
          "output_type": "stream",
          "name": "stdout",
          "text": [
            "frog\n"
          ]
        },
        {
          "output_type": "display_data",
          "data": {
            "text/plain": [
              "<Figure size 1500x200 with 1 Axes>"
            ],
            "image/png": "[encoded data removed]"
          },
          "metadata": {}
        }
      ]
    },
    {
      "cell_type": "code",
      "source": [
        "check(7)"
      ],
      "metadata": {
        "id": "RiIBxE3BLmrS",
        "colab": {
          "base_uri": "https://localhost:8080/",
          "height": 255
        },
        "outputId": "58b85501-627a-4fab-974b-f0d8f7bb209d"
      },
      "execution_count": 59,
      "outputs": [
        {
          "output_type": "stream",
          "name": "stdout",
          "text": [
            "airplane\n"
          ]
        },
        {
          "output_type": "display_data",
          "data": {
            "text/plain": [
              "<Figure size 1500x200 with 1 Axes>"
            ],
            "image/png": "[encoded data removed]"
          },
          "metadata": {}
        }
      ]
    },
    {
      "cell_type": "code",
      "source": [
        "check(30)"
      ],
      "metadata": {
        "id": "KjVmf_sMLp5J",
        "colab": {
          "base_uri": "https://localhost:8080/",
          "height": 255
        },
        "outputId": "207d3a2e-0321-4bad-c45a-f6788ba0a938"
      },
      "execution_count": 60,
      "outputs": [
        {
          "output_type": "stream",
          "name": "stdout",
          "text": [
            "frog\n"
          ]
        },
        {
          "output_type": "display_data",
          "data": {
            "text/plain": [
              "<Figure size 1500x200 with 1 Axes>"
            ],
            "image/png": "[encoded data removed]"
          },
          "metadata": {}
        }
      ]
    },
    {
      "cell_type": "code",
      "source": [
        "check(150)"
      ],
      "metadata": {
        "id": "Q-0dxCVeLsDE",
        "colab": {
          "base_uri": "https://localhost:8080/",
          "height": 255
        },
        "outputId": "dd9720a7-1202-4e4d-f2dd-770413ed0c34"
      },
      "execution_count": 61,
      "outputs": [
        {
          "output_type": "stream",
          "name": "stdout",
          "text": [
            "ship\n"
          ]
        },
        {
          "output_type": "display_data",
          "data": {
            "text/plain": [
              "<Figure size 1500x200 with 1 Axes>"
            ],
            "image/png": "[encoded data removed]"
          },
          "metadata": {}
        }
      ]
    },
    {
      "cell_type": "code",
      "source": [
        "check(800)"
      ],
      "metadata": {
        "colab": {
          "base_uri": "https://localhost:8080/",
          "height": 255
        },
        "id": "RadZYM7IzpB_",
        "outputId": "efcb9750-dda3-4d0d-c551-454a759e09b3"
      },
      "execution_count": 62,
      "outputs": [
        {
          "output_type": "stream",
          "name": "stdout",
          "text": [
            "horse\n"
          ]
        },
        {
          "output_type": "display_data",
          "data": {
            "text/plain": [
              "<Figure size 1500x200 with 1 Axes>"
            ],
            "image/png": "[encoded data removed]"
          },
          "metadata": {}
        }
      ]
    },
    {
      "cell_type": "code",
      "source": [
        "check(730)"
      ],
      "metadata": {
        "colab": {
          "base_uri": "https://localhost:8080/",
          "height": 255
        },
        "id": "H1yC7jtN0RG1",
        "outputId": "ae07eda0-abfc-436d-b4e2-e5171791e112"
      },
      "execution_count": 63,
      "outputs": [
        {
          "output_type": "stream",
          "name": "stdout",
          "text": [
            "deer\n"
          ]
        },
        {
          "output_type": "display_data",
          "data": {
            "text/plain": [
              "<Figure size 1500x200 with 1 Axes>"
            ],
            "image/png": "[encoded data removed]"
          },
          "metadata": {}
        }
      ]
    },
    {
      "cell_type": "code",
      "source": [
        "check(450)"
      ],
      "metadata": {
        "colab": {
          "base_uri": "https://localhost:8080/",
          "height": 255
        },
        "id": "vz_LYwC50TYQ",
        "outputId": "cb77681d-1667-440e-ea2f-785e661789a8"
      },
      "execution_count": 64,
      "outputs": [
        {
          "output_type": "stream",
          "name": "stdout",
          "text": [
            "automobile\n"
          ]
        },
        {
          "output_type": "display_data",
          "data": {
            "text/plain": [
              "<Figure size 1500x200 with 1 Axes>"
            ],
            "image/png": "[encoded data removed]"
          },
          "metadata": {}
        }
      ]
    },
    {
      "cell_type": "code",
      "source": [
        "check(774)"
      ],
      "metadata": {
        "colab": {
          "base_uri": "https://localhost:8080/",
          "height": 255
        },
        "id": "p3MpuLQV0Xt6",
        "outputId": "eb094ae4-2bc9-4b94-c283-a77142ce50fe"
      },
      "execution_count": 65,
      "outputs": [
        {
          "output_type": "stream",
          "name": "stdout",
          "text": [
            "airplane\n"
          ]
        },
        {
          "output_type": "display_data",
          "data": {
            "text/plain": [
              "<Figure size 1500x200 with 1 Axes>"
            ],
            "image/png": "[encoded data removed]"
          },
          "metadata": {}
        }
      ]
    },
    {
      "cell_type": "code",
      "source": [
        "check(696)"
      ],
      "metadata": {
        "colab": {
          "base_uri": "https://localhost:8080/",
          "height": 255
        },
        "id": "87mngMRE0cMj",
        "outputId": "013be94b-da33-4b00-fd26-151a063406bb"
      },
      "execution_count": 67,
      "outputs": [
        {
          "output_type": "stream",
          "name": "stdout",
          "text": [
            "ship\n"
          ]
        },
        {
          "output_type": "display_data",
          "data": {
            "text/plain": [
              "<Figure size 1500x200 with 1 Axes>"
            ],
            "image/png": "[encoded data removed]"
          },
          "metadata": {}
        }
      ]
    },
    {
      "cell_type": "code",
      "source": [
        "check(322)"
      ],
      "metadata": {
        "colab": {
          "base_uri": "https://localhost:8080/",
          "height": 255
        },
        "id": "uYWsHZe00fmg",
        "outputId": "8dcee7fc-4dd8-4f11-eee1-46204934a1e3"
      },
      "execution_count": 68,
      "outputs": [
        {
          "output_type": "stream",
          "name": "stdout",
          "text": [
            "bird\n"
          ]
        },
        {
          "output_type": "display_data",
          "data": {
            "text/plain": [
              "<Figure size 1500x200 with 1 Axes>"
            ],
            "image/png": "[encoded data removed]"
          },
          "metadata": {}
        }
      ]
    },
    {
      "cell_type": "code",
      "source": [
        "check(921)"
      ],
      "metadata": {
        "colab": {
          "base_uri": "https://localhost:8080/",
          "height": 255
        },
        "id": "fkn28Tsy0jzc",
        "outputId": "65f90aec-baed-4b50-9a97-4a30ec5fa98e"
      },
      "execution_count": 69,
      "outputs": [
        {
          "output_type": "stream",
          "name": "stdout",
          "text": [
            "truck\n"
          ]
        },
        {
          "output_type": "display_data",
          "data": {
            "text/plain": [
              "<Figure size 1500x200 with 1 Axes>"
            ],
            "image/png": "[encoded data removed]"
          },
          "metadata": {}
        }
      ]
    }
  ]
}